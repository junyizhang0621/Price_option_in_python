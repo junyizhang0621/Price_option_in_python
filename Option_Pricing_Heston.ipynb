{
 "cells": [
  {
   "cell_type": "markdown",
   "metadata": {},
   "source": [
    "## Heston Model and option Pricing\n",
    "Try to extend the stock simulation model with stochastic volatility (Heston Model), i.e., replace $\\sigma$ in the equation with a stochastic one:\n",
    "$d S_t = r S_t dt + \\sqrt{V_t} S_t dW_t $,  where $ d V_t = (\\kappa - \\theta V_t) dt + \\eta \\sqrt{V_t} d B_t$, $d[W_t, B_t] = \\rho dt$.  Modify the pricer accordingly and compare the option price with the constant volatility case. "
   ]
  },
  {
   "cell_type": "code",
   "execution_count": 1,
   "metadata": {},
   "outputs": [],
   "source": [
    "import numpy as np\n",
    "import matplotlib.pyplot as plt\n",
    "import seaborn as sns\n",
    "sns.set()\n",
    "%matplotlib inline\n",
    "from scipy.stats import norm"
   ]
  },
  {
   "cell_type": "code",
   "execution_count": 2,
   "metadata": {},
   "outputs": [],
   "source": [
    "def sim_stock_hest(t0,T,S0,V0,N_t,r,kappa,theta, eta, rho, N_sim):\n",
    "   \n",
    "    dt = T/N_t\n",
    "    t = np.linspace(t0,T,N_t+1)\n",
    "    sdt = np.sqrt(dt)\n",
    "    \n",
    "    Z1 = np.random.randn(N_sim, N_t)\n",
    "    Z2 = np.random.randn(N_sim, N_t)\n",
    "    Z3 = rho*Z1 + np.sqrt(1-rho**2)*Z2\n",
    "    \n",
    "    S = np.zeros((N_sim, N_t+1))\n",
    "    S[:,0] = S0\n",
    "    \n",
    "    V = np.zeros((N_sim, N_t+1))\n",
    "    V[:,0] = V0\n",
    "\n",
    "    for i in range(N_t):\n",
    "        vol = np.sqrt(np.maximum(V[:,i],0))\n",
    "        S[:,i+1] = S[:,i] + r*S[:,i]*dt + vol*S[:,i]*sdt*Z1[:,i] + 0.5*V[:,i]*S[:,i]*(Z1[:,i]**2 - 1)*dt\n",
    "        V[:,i+1] = V[:,i] + kappa*(theta - V[:,i])*dt + eta*vol*sdt*Z3[:,i] + 0.25*(eta**2)*(Z3[:,i]**2 - 1)*dt\n",
    "    return S\n",
    "                      "
   ]
  },
  {
   "cell_type": "code",
   "execution_count": 3,
   "metadata": {},
   "outputs": [],
   "source": [
    "SP=sim_stock_hest(t0=0,T=10,S0=100,\n",
    "                  V0=0.0529,N_t=1000,r=0,kappa=0.04,theta=0.1,eta=0.1,rho=-0.9,\n",
    "                 N_sim=10000)\n"
   ]
  },
  {
   "cell_type": "code",
   "execution_count": 4,
   "metadata": {},
   "outputs": [],
   "source": [
    "def option_price(S,K,r,T):\n",
    "    return np.mean(np.exp(-r*T)*np.maximum(S-K,0))"
   ]
  },
  {
   "cell_type": "code",
   "execution_count": 5,
   "metadata": {},
   "outputs": [
    {
     "data": {
      "text/plain": [
       "25.047261878212662"
      ]
     },
     "execution_count": 5,
     "metadata": {},
     "output_type": "execute_result"
    }
   ],
   "source": [
    "S=SP[:,-1]\n",
    "K=100\n",
    "r=0\n",
    "T=10\n",
    "option_price(S,K,r,T)"
   ]
  },
  {
   "cell_type": "code",
   "execution_count": 6,
   "metadata": {},
   "outputs": [],
   "source": [
    "log_n = [2,3,4,5,6]\n",
    "n_sim = [int(10**k) for k in log_n] "
   ]
  },
  {
   "cell_type": "code",
   "execution_count": 7,
   "metadata": {},
   "outputs": [],
   "source": [
    "options=[]\n",
    "for n in n_sim:\n",
    "    SP=sim_stock_hest(t0=0,T=10,S0=100,\n",
    "                  V0=0.04,N_t=100,r=0,kappa=0.5,theta=0.04,eta=0.1,rho=-0.9,\n",
    "                 N_sim=n)\n",
    "    S=SP[:,-1]\n",
    "    op = option_price(S,K,r,T)\n",
    "    options.append(op)"
   ]
  },
  {
   "cell_type": "code",
   "execution_count": 8,
   "metadata": {},
   "outputs": [
    {
     "data": {
      "text/plain": [
       "[18.391476802660257,\n",
       " 23.104823456925224,\n",
       " 23.915369188898502,\n",
       " 23.59204657709282,\n",
       " 23.766196042884044]"
      ]
     },
     "execution_count": 8,
     "metadata": {},
     "output_type": "execute_result"
    }
   ],
   "source": [
    "options"
   ]
  },
  {
   "cell_type": "code",
   "execution_count": 9,
   "metadata": {},
   "outputs": [
    {
     "data": {
      "text/plain": [
       "<matplotlib.legend.Legend at 0x204006d9648>"
      ]
     },
     "execution_count": 9,
     "metadata": {},
     "output_type": "execute_result"
    },
    {
     "data": {
      "image/png": "[encoded data removed]",
      "text/plain": [
       "<Figure size 432x288 with 1 Axes>"
      ]
     },
     "metadata": {
      "needs_background": "light"
     },
     "output_type": "display_data"
    }
   ],
   "source": [
    "plt.plot(log_n, options,label='Heston')\n",
    "plt.xlabel('log(simulation #)')\n",
    "plt.ylabel('Option Price')\n",
    "plt.title('Option Price: Heston')\n",
    "plt.hlines(23.69, 2,6, linestyles='dashed', colors='red',label='True Value')\n",
    "plt.hlines(24.82, 2,6, linestyles='dashed', colors='blue',label='BS Value')\n",
    "plt.legend()"
   ]
  },
  {
   "cell_type": "code",
   "execution_count": 10,
   "metadata": {},
   "outputs": [
    {
     "data": {
      "text/plain": [
       "[18.391476802660257,\n",
       " 23.104823456925224,\n",
       " 23.915369188898502,\n",
       " 23.59204657709282,\n",
       " 23.766196042884044]"
      ]
     },
     "execution_count": 10,
     "metadata": {},
     "output_type": "execute_result"
    }
   ],
   "source": [
    "options"
   ]
  },
  {
   "cell_type": "code",
   "execution_count": 11,
   "metadata": {},
   "outputs": [],
   "source": [
    "def option_price_BS(S0,K,sigma,r,T):\n",
    "    d1 = (np.log(S0/K) + (r + 0.5*(sigma**2))*T)/(sigma*np.sqrt(T))\n",
    "    d2 = d1 - sigma * np.sqrt(T)\n",
    "    return S0*norm.cdf(d1) - K*np.exp(-r*T)*norm.cdf(d2)"
   ]
  },
  {
   "cell_type": "code",
   "execution_count": 12,
   "metadata": {},
   "outputs": [
    {
     "data": {
      "text/plain": [
       "24.817036595415075"
      ]
     },
     "execution_count": 12,
     "metadata": {},
     "output_type": "execute_result"
    }
   ],
   "source": [
    "option_price_BS(100,K,0.2,r,T)"
   ]
  },
  {
   "cell_type": "code",
   "execution_count": 13,
   "metadata": {},
   "outputs": [
    {
     "data": {
      "text/plain": [
       "<matplotlib.legend.Legend at 0x204007bef88>"
      ]
     },
     "execution_count": 13,
     "metadata": {},
     "output_type": "execute_result"
    },
    {
     "data": {
      "image/png": "[encoded data removed]",
      "text/plain": [
       "<Figure size 432x288 with 1 Axes>"
      ]
     },
     "metadata": {
      "needs_background": "light"
     },
     "output_type": "display_data"
    }
   ],
   "source": [
    "rhos=[-0.9,-0.5,-0.1,0,0.1,0.5,0.9]\n",
    "options=[]\n",
    "for corr in rhos:\n",
    "    SP=sim_stock_hest(t0=0,T=10,S0=100,\n",
    "                  V0=0.04,N_t=100,r=0,kappa=0.5,theta=0.04,eta=0.1,rho=corr,\n",
    "                 N_sim=10000)\n",
    "    S=SP[:,-1]\n",
    "    op = option_price(S,K,r,T)\n",
    "    options.append(op)\n",
    "    \n",
    "plt.plot(rhos, options,label='Heston')\n",
    "plt.xlabel('correlation')\n",
    "plt.ylabel('Option Price')\n",
    "plt.title('Option Price: Heston')\n",
    "plt.hlines(23.69, -1,1, linestyles='dashed', colors='red',label='True Value')\n",
    "plt.hlines(24.82, -1,1, linestyles='dashed', colors='blue',label='BS Value')\n",
    "plt.legend()"
   ]
  },
  {
   "cell_type": "code",
   "execution_count": 14,
   "metadata": {},
   "outputs": [
    {
     "data": {
      "text/plain": [
       "[23.137522716094672,\n",
       " 24.79149600581815,\n",
       " 23.36418301377849,\n",
       " 24.255096257418977,\n",
       " 25.37777082031723,\n",
       " 24.43785432135447,\n",
       " 25.32206947569267]"
      ]
     },
     "execution_count": 14,
     "metadata": {},
     "output_type": "execute_result"
    }
   ],
   "source": [
    "options"
   ]
  },
  {
   "cell_type": "code",
   "execution_count": 15,
   "metadata": {},
   "outputs": [
    {
     "data": {
      "text/plain": [
       "<matplotlib.legend.Legend at 0x2040083ad88>"
      ]
     },
     "execution_count": 15,
     "metadata": {},
     "output_type": "execute_result"
    },
    {
     "data": {
      "image/png": "[encoded data removed]",
      "text/plain": [
       "<Figure size 432x288 with 1 Axes>"
      ]
     },
     "metadata": {
      "needs_background": "light"
     },
     "output_type": "display_data"
    }
   ],
   "source": [
    "rhos=[-0.9,-0.5,-0.1,0,0.1,0.5,0.9]\n",
    "options=[]\n",
    "for corr in rhos:\n",
    "    SP=sim_stock_hest(t0=0,T=10,S0=100,\n",
    "                  V0=0.0529,N_t=1000,r=0,kappa=0.04,theta=0.1,eta=0.1,rho=corr,\n",
    "                 N_sim=10000)\n",
    "    S=SP[:,-1]\n",
    "    op = option_price(S,K,r,T)\n",
    "    options.append(op)\n",
    "    \n",
    "plt.plot(rhos, options,label='Heston')\n",
    "plt.xlabel('correlation')\n",
    "plt.ylabel('Option Price')\n",
    "plt.title('Option Price: Heston')\n",
    "plt.hlines(23.69, -1,1, linestyles='dashed', colors='red',label='True Value')\n",
    "plt.hlines(24.82, -1,1, linestyles='dashed', colors='blue',label='BS Value')\n",
    "plt.legend()"
   ]
  },
  {
   "cell_type": "code",
   "execution_count": null,
   "metadata": {},
   "outputs": [],
   "source": []
  }
 ],
 "metadata": {
  "kernelspec": {
   "display_name": "Python 3",
   "language": "python",
   "name": "python3"
  },
  "language_info": {
   "codemirror_mode": {
    "name": "ipython",
    "version": 3
   },
   "file_extension": ".py",
   "mimetype": "text/x-python",
   "name": "python",
   "nbconvert_exporter": "python",
   "pygments_lexer": "ipython3",
   "version": "3.7.7"
  }
 },
 "nbformat": 4,
 "nbformat_minor": 2
}
