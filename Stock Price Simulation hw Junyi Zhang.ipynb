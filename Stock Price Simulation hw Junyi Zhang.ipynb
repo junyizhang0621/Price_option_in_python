{
 "cells": [
  {
   "cell_type": "code",
   "execution_count": 1,
   "metadata": {},
   "outputs": [],
   "source": [
    "import numpy as np\n",
    "import matplotlib.pyplot as plt\n",
    "import seaborn as sns\n",
    "sns.set()\n",
    "%matplotlib inline"
   ]
  },
  {
   "cell_type": "code",
   "execution_count": 2,
   "metadata": {},
   "outputs": [],
   "source": [
    "# return a set of simulated stock price samples between [0,T] as a matrix\n",
    "# number of rows = # of simulation paths\n",
    "# number of cols = # of time points\n",
    "# every path represents S(0), S(dt), S(2dt), ... S(ndt)...S(T)\n",
    "# [S(0,1) S(dt,1), ... S(T,1)\n",
    "#   S(0,2) S(dt,2),.... S(T,2)\n",
    "#   ..\n",
    "#   S(0,N_sim), ........S(T, N_sim)\n",
    "#]\n",
    "\n",
    "#  When I generate the Brownian motion I use the indepedent increment property by\n",
    "#   Generating a(1)=W(0), a(2)=W(1)-W(0), a(3)=W(2)-W(1),... a(n)=W(n)-W(n-1) first,\n",
    "#   Then take the cumsum to get:\n",
    "#     W(1) = a(1) = W(0),  W(2) = a(1) + a(2) = W(1), W(3) = a(1)+a(2)+a(3) = W(3),...\n",
    "#     W(n) = a(1) + a(2) + ... + a(n) = W(n)\n",
    "#\n",
    "# European Option is C = E^RN[e^(−RT) * max(ST − K, 0)]\n",
    "# Black Shoes formula is dSt = rStdt + σStdWt\n",
    "# Solution of this SDE is ST = S0exp((r − σ^2/2)T + σWt) where Wt is Brownian motion\n",
    "\n",
    "\n",
    "# T is the whole time length\n",
    "# dt is the step of period\n",
    "\n",
    "def StockPriceSim(S0,K,r,sigma, N_sim, T, dt):\n",
    "    N_T = int(T/dt) # get number of period within time length\n",
    "    t = np.linspace(0,T,N_T+1) # creat time period array i.e x-axis\n",
    "    \n",
    "    # Generate paths for underlying asset prices\n",
    "    innovation = np.random.randn(N_sim, N_T) # formulate a N_sim * N_T matrix\n",
    "                                              #from standard normal distribution\n",
    "    BM = np.zeros([N_sim, N_T+1]) # similarily create N_sim * N_T+1 matrix of 0\n",
    "    BM[:,0] = 0\n",
    "    BM[:,1:] = innovation\n",
    "    BM = np.cumsum(BM,axis=1)\n",
    "    BM *= np.sqrt(dt)\n",
    "\n",
    "    S = np.ones([N_sim, N_T+1])\n",
    "    S *= (r - 0.5*(sigma)**2)*t\n",
    "    S += sigma * BM\n",
    "    S = S0*np.exp(S)\n",
    "    \n",
    "    return S"
   ]
  },
  {
   "cell_type": "code",
   "execution_count": 3,
   "metadata": {},
   "outputs": [
    {
     "ename": "NameError",
     "evalue": "name 'T' is not defined",
     "output_type": "error",
     "traceback": [
      "\u001b[1;31m---------------------------------------------------------------------------\u001b[0m",
      "\u001b[1;31mNameError\u001b[0m                                 Traceback (most recent call last)",
      "\u001b[1;32m<ipython-input-3-90bce6519db3>\u001b[0m in \u001b[0;36m<module>\u001b[1;34m\u001b[0m\n\u001b[1;32m----> 1\u001b[1;33m \u001b[0mN_T\u001b[0m \u001b[1;33m=\u001b[0m \u001b[0mint\u001b[0m\u001b[1;33m(\u001b[0m\u001b[0mT\u001b[0m\u001b[1;33m/\u001b[0m\u001b[0mdt\u001b[0m\u001b[1;33m)\u001b[0m\u001b[1;33m\u001b[0m\u001b[1;33m\u001b[0m\u001b[0m\n\u001b[0m\u001b[0;32m      2\u001b[0m \u001b[0mt\u001b[0m \u001b[1;33m=\u001b[0m \u001b[0mnp\u001b[0m\u001b[1;33m.\u001b[0m\u001b[0mlinspace\u001b[0m\u001b[1;33m(\u001b[0m\u001b[1;36m0\u001b[0m\u001b[1;33m,\u001b[0m\u001b[0mT\u001b[0m\u001b[1;33m,\u001b[0m\u001b[0mN_T\u001b[0m\u001b[1;33m+\u001b[0m\u001b[1;36m1\u001b[0m\u001b[1;33m)\u001b[0m\u001b[1;33m\u001b[0m\u001b[1;33m\u001b[0m\u001b[0m\n\u001b[0;32m      3\u001b[0m \u001b[1;33m\u001b[0m\u001b[0m\n\u001b[0;32m      4\u001b[0m \u001b[1;32mfor\u001b[0m \u001b[0mi\u001b[0m \u001b[1;32min\u001b[0m \u001b[0mrange\u001b[0m\u001b[1;33m(\u001b[0m\u001b[0mN_sim\u001b[0m\u001b[1;33m)\u001b[0m\u001b[1;33m:\u001b[0m\u001b[1;33m\u001b[0m\u001b[1;33m\u001b[0m\u001b[0m\n\u001b[0;32m      5\u001b[0m     \u001b[0mplt\u001b[0m\u001b[1;33m.\u001b[0m\u001b[0mplot\u001b[0m\u001b[1;33m(\u001b[0m\u001b[0mt\u001b[0m\u001b[1;33m,\u001b[0m \u001b[0mstock\u001b[0m\u001b[1;33m[\u001b[0m\u001b[0mi\u001b[0m\u001b[1;33m,\u001b[0m\u001b[1;33m:\u001b[0m\u001b[1;33m]\u001b[0m\u001b[1;33m)\u001b[0m\u001b[1;33m\u001b[0m\u001b[1;33m\u001b[0m\u001b[0m\n",
      "\u001b[1;31mNameError\u001b[0m: name 'T' is not defined"
     ]
    }
   ],
   "source": [
    "N_T = int(T/dt)\n",
    "t = np.linspace(0,T,N_T+1)\n",
    "\n",
    "for i in range(N_sim):\n",
    "    plt.plot(t, stock[i,:])\n",
    "plt.xlabel('time')\n",
    "plt.ylabel('Stock Price')\n",
    "plt.title('Simualted Stock Price')"
   ]
  },
  {
   "cell_type": "markdown",
   "metadata": {},
   "source": [
    "## For European option pricing you just need the terminal stock price at T=1"
   ]
  },
  {
   "cell_type": "code",
   "execution_count": null,
   "metadata": {},
   "outputs": [],
   "source": [
    "stock_T=stock[:,-1]"
   ]
  },
  {
   "cell_type": "markdown",
   "metadata": {},
   "source": [
    "For European option, the pricing can be done by calculating the expected value of the discounted payoff:\n",
    "    $c = e^{-rT}E[\\max(S_T - K, 0)]$\n",
    "    \n",
    "In Monte Carlo what you can do is to simulate many such $S^{i}_T$'s (by sampling from lognormal distribution based on the previous stock simulation function), then calculate the payoff for each path $i$:   \n",
    "\n",
    "$\\hat{c} = e^{-rT} \\frac{1}{N}\\sum^{N}_{i=1} \\max(S^{i}_T - K, 0)$"
   ]
  },
  {
   "cell_type": "markdown",
   "metadata": {},
   "source": [
    "# Your task is to use the above stock price simulation function to price a European Call Option with:\n",
    "* T = 1\n",
    "* $S_{0} = 100$\n",
    "* K = 100\n",
    "* $\\sigma$ = 0.3\n",
    "* $r=0.04$"
   ]
  },
  {
   "cell_type": "markdown",
   "metadata": {},
   "source": [
    "* Plot your option price as you vary the simulation path number $N_{sim}$ (100,1000,2000,5000,10000)\n",
    "and summerize your findings\n",
    "* Compare the value against the theoretical value calculated using Black Scholes Formula"
   ]
  },
  {
   "cell_type": "markdown",
   "metadata": {},
   "source": [
    "$c = S_0 * N(d_1) - K * e^{-rT} N(d_2)$\n",
    "\n",
    "where\n",
    "\n",
    "$d_1 = \\frac{\\ln(S_0/K) + (r + \\frac{1}{2}\\sigma^2)T}{\\sigma\\sqrt{T}}$\n",
    "\n",
    "\n",
    "$d_2 = d_1 - \\sigma\\sqrt{T}$\n",
    "\n",
    "$N(x) = \\frac{1}{\\sqrt{2\\pi}}\\int^{x}_{-\\infty} e^{-\\frac{t^2}{2}} dt$"
   ]
  },
  {
   "cell_type": "code",
   "execution_count": null,
   "metadata": {},
   "outputs": [],
   "source": [
    "from scipy.stats import norm"
   ]
  },
  {
   "cell_type": "code",
   "execution_count": null,
   "metadata": {},
   "outputs": [],
   "source": [
    "def option_price_BS(S0,K,r,T,sigma):\n",
    "    d1 = (np.log(S0/K) + (r-0.5*(sigma)**2)*T)/(sigma*np.sqrt(T))\n",
    "    d2 = d1 - sigma*np.sqrt(T)\n",
    "    return S0*norm.cdf(d1) - K*np.exp(-r*T)*norm.cdf(d2)"
   ]
  },
  {
   "cell_type": "code",
   "execution_count": null,
   "metadata": {},
   "outputs": [],
   "source": [
    "option_price_BS(S0,K,r,T,sigma)"
   ]
  },
  {
   "cell_type": "code",
   "execution_count": null,
   "metadata": {},
   "outputs": [],
   "source": [
    "def option_price_MC(S0,K,r,T,sigma):\n",
    "    # 1. Simulate Stock price\n",
    "    S = StockPriceSim(S0,K,r,sigma, N_sim, T, dt)\n",
    "    S = S[:,-1]\n",
    "    \n",
    "    # 2.calculate payoff\n",
    "    payoff = np.exp(-r*T) * np.where(S-K < 0, 0, S-K)  ## Your code here formula e^(−rT) * max(SiT− K, 0)\n",
    "     \n",
    "    # 3.calculate option price by taking the average of the payoff\n",
    "    option_price = np.mean(payoff)  ### Your code here\n",
    "    \n",
    "    return option_price\n",
    "option_price_MC(S0,K,r,T,sigma)"
   ]
  },
  {
   "cell_type": "code",
   "execution_count": null,
   "metadata": {},
   "outputs": [],
   "source": [
    "# Hint: use the numpy function 'maximum'\n",
    "np.maximum(-2,0)"
   ]
  },
  {
   "cell_type": "code",
   "execution_count": null,
   "metadata": {},
   "outputs": [],
   "source": []
  }
 ],
 "metadata": {
  "kernelspec": {
   "display_name": "Python 3",
   "language": "python",
   "name": "python3"
  },
  "language_info": {
   "codemirror_mode": {
    "name": "ipython",
    "version": 3
   },
   "file_extension": ".py",
   "mimetype": "text/x-python",
   "name": "python",
   "nbconvert_exporter": "python",
   "pygments_lexer": "ipython3",
   "version": "3.8.5"
  }
 },
 "nbformat": 4,
 "nbformat_minor": 2
}
