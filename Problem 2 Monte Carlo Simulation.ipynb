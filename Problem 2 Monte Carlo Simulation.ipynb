{
 "cells": [
  {
   "cell_type": "code",
   "execution_count": 1,
   "metadata": {},
   "outputs": [],
   "source": [
    "import numpy as np"
   ]
  },
  {
   "cell_type": "code",
   "execution_count": 2,
   "metadata": {},
   "outputs": [],
   "source": [
    "def flip_the_coin():\n",
    "    count = 1 # Initialize the number to 1\n",
    "    state = None\n",
    "    result = np.random.rand()\n",
    "    # Flip the first time to determine \n",
    "    # the state of coin\n",
    "    if result > 0.5:\n",
    "        state = \"head\"\n",
    "    else:\n",
    "        state = \"tail\"\n",
    "    \n",
    "    while True:\n",
    "        count += 1\n",
    "        result = np.random.rand()\n",
    "        if result > 0.5: \n",
    "            if state == \"head\":\n",
    "                # Only break the loop when\n",
    "                # there is consecutive head\n",
    "                break\n",
    "            else:\n",
    "                state = \"head\"\n",
    "        else:\n",
    "            state = \"tail\"\n",
    "    return count\n",
    "            "
   ]
  },
  {
   "cell_type": "code",
   "execution_count": 3,
   "metadata": {},
   "outputs": [
    {
     "data": {
      "text/plain": [
       "2"
      ]
     },
     "execution_count": 3,
     "metadata": {},
     "output_type": "execute_result"
    }
   ],
   "source": [
    "flip_the_coin()"
   ]
  },
  {
   "cell_type": "code",
   "execution_count": 4,
   "metadata": {},
   "outputs": [
    {
     "name": "stdout",
     "output_type": "stream",
     "text": [
      "The expected number of times for flipping a coin is 5.993662\n"
     ]
    }
   ],
   "source": [
    "a = []\n",
    "times = 1000000\n",
    "for i in range(times):\n",
    "    x = flip_the_coin()\n",
    "    a.append(x)\n",
    "print(\"The expected number of times for flipping a coin is\", np.mean(a))"
   ]
  },
  {
   "cell_type": "code",
   "execution_count": null,
   "metadata": {},
   "outputs": [],
   "source": []
  }
 ],
 "metadata": {
  "kernelspec": {
   "display_name": "Python 3.7.3 64-bit ('base': conda)",
   "language": "python",
   "name": "python37364bitbasecondaaf2f66e990a345d09c0de4a344ada6f9"
  },
  "language_info": {
   "codemirror_mode": {
    "name": "ipython",
    "version": 3
   },
   "file_extension": ".py",
   "mimetype": "text/x-python",
   "name": "python",
   "nbconvert_exporter": "python",
   "pygments_lexer": "ipython3",
   "version": "3.7.7"
  }
 },
 "nbformat": 4,
 "nbformat_minor": 4
}
