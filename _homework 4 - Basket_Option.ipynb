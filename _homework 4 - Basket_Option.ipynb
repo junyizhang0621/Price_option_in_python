{
 "cells": [
  {
   "cell_type": "markdown",
   "metadata": {},
   "source": [
    "## European Basket Option Price \n",
    "Use Monte Carlo simulation to calculate a European basket option price where the payoff at expiry T is defined as\n",
    "\n",
    "Payoff (T) = $\\max(S_1(T) + S_2(T) - K, 0)$\n",
    "\n",
    "The two Stock prices $S_1$ and $S_2$ follows correlated Geometric Brownian Motion:\n",
    "    \n",
    "$S_1(T) = S_1(0) \\exp((r - \\frac{1}{2}\\sigma^2)T + \\sigma B_T)$\n",
    "\n",
    "$S_2(T) = S_2(0) \\exp((r - \\frac{1}{2}\\sigma^2)T + \\sigma W_T)$\n",
    "\n",
    "Where \n",
    "$B_T = \\sqrt{T} Z_1$, $W_T = \\sqrt{T} Z_2$, $Z_1 \\sim N(0,1)$, $Z_2 \\sim N(0,1)$\n",
    "$corr(Z_1, Z_2) = \\rho$\n",
    "\n",
    "Here\n",
    "* $S_1(0) = S_2(0)$ = 100\n",
    "* $K$ = 200\n",
    "* $\\sigma$ = 0.5\n",
    "* $T = 1$\n",
    "* $r$ = 0.05\n",
    "\n",
    "Remember option price is the average discounted payoff:\n",
    "\n",
    "$C = E[e^{-rT}\\max(S_1(T) + S_2(T) - K, 0]$\n",
    "calculate and plot the option prices for $\\rho=-1,-0.8, -0.5, 0, 0.5, 0.8, 1$, and plot C as $\\rho$ changes\n"
   ]
  },
  {
   "cell_type": "code",
   "execution_count": 1,
   "metadata": {},
   "outputs": [],
   "source": [
    "import numpy as np\n",
    "import matplotlib.pyplot as plt\n",
    "import seaborn as sns\n",
    "sns.set()\n",
    "%matplotlib inline"
   ]
  },
  {
   "cell_type": "code",
   "execution_count": 2,
   "metadata": {},
   "outputs": [],
   "source": [
    "def basket_option(S_10, S_20, K, sigma, T, r, N_sim, rho):\n",
    "    \n",
    "    Z1 = np.random.randn(N_sim)\n",
    "    Z3 = np.random.randn(N_sim) # standard normal sampling\n",
    "    Z2 = rho * Z1 + np.sqrt(1 - (rho)**2) * Z3 # Your code here - please calculate Z2 based on Z1 and Z3 \n",
    "                                               # (Z1 and Z3 are i.i.d normal random) using Cholesky decomposition to\n",
    "                                               # simulate correlated normals\n",
    "    \n",
    "    S1 = S_10 * np.exp((r - 0.5 * (sigma**2)) * T + sigma * np.sqrt(T) * Z1)  # Your code here - please fill in the calculation code for S1 based on Z1\n",
    "    S2 = S_20 * np.exp((r - 0.5 * (sigma**2)) * T + sigma * np.sqrt(T) * Z2)  # Your code here - please fill in the calculation code for S2 based on Z2\n",
    "    \n",
    "    option_prices = np.exp(-r*T) * np.where(S1 + S2 -K < 0, 0, S1 + S2 -K)  # Your Code here\n",
    "    \n",
    "    return np.mean(option_prices)"
   ]
  },
  {
   "cell_type": "code",
   "execution_count": 3,
   "metadata": {},
   "outputs": [
    {
     "data": {
      "text/plain": [
       "34.11657171807174"
      ]
     },
     "execution_count": 3,
     "metadata": {},
     "output_type": "execute_result"
    }
   ],
   "source": [
    "basket_option(100,100,200,0.5,1,0.05,10000,0.1)   # You should get something between  33 and 35"
   ]
  },
  {
   "cell_type": "code",
   "execution_count": 4,
   "metadata": {},
   "outputs": [],
   "source": [
    "rho=[-1, -0.8,-0.5,0,0.5,0.8,1]\n",
    "options=[]"
   ]
  },
  {
   "cell_type": "code",
   "execution_count": 5,
   "metadata": {},
   "outputs": [],
   "source": [
    "for r in rho:\n",
    "    option = basket_option(100,100,200,0.5,1,0.05,10000,r)\n",
    "    options.append(option)"
   ]
  },
  {
   "cell_type": "code",
   "execution_count": 6,
   "metadata": {},
   "outputs": [
    {
     "data": {
      "text/plain": [
       "[<matplotlib.lines.Line2D at 0x23d690666c8>]"
      ]
     },
     "execution_count": 6,
     "metadata": {},
     "output_type": "execute_result"
    },
    {
     "data": {
      "image/png": "[encoded data removed]",
      "text/plain": [
       "<Figure size 432x288 with 1 Axes>"
      ]
     },
     "metadata": {
      "needs_background": "light"
     },
     "output_type": "display_data"
    }
   ],
   "source": [
    "plt.plot(rho,options)"
   ]
  },
  {
   "cell_type": "code",
   "execution_count": null,
   "metadata": {},
   "outputs": [],
   "source": []
  }
 ],
 "metadata": {
  "kernelspec": {
   "display_name": "Python 3",
   "language": "python",
   "name": "python3"
  },
  "language_info": {
   "codemirror_mode": {
    "name": "ipython",
    "version": 3
   },
   "file_extension": ".py",
   "mimetype": "text/x-python",
   "name": "python",
   "nbconvert_exporter": "python",
   "pygments_lexer": "ipython3",
   "version": "3.7.7"
  }
 },
 "nbformat": 4,
 "nbformat_minor": 2
}
