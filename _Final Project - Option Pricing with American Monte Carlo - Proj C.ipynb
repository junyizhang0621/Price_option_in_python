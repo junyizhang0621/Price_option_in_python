{
 "cells": [
  {
   "cell_type": "markdown",
   "metadata": {},
   "source": [
    "### Use Monte Carlo to Price American Options\n",
    "\n",
    "In this homework you will implement your own option pricer using American Monte Carlo (Monte Carlo + Regression) Based on the method prescribed by Longstaff and Schwartz.\n",
    "\n",
    "\n",
    "Basic Procedures:\n",
    "    \n",
    "* Step 1: Simulate asset price paths for $S(t_i), i=1,2,..N$\n",
    "* Step 2: Option value can be calculated explicitly for $t_N$: $p_k(t_N) = \\max(K - S_k(t_N), 0) $ for path k;\n",
    "* Step 3: Set $i=N$;\n",
    "* Step 4: Perform linear regression of $e^{-r\\Delta t}p_k(t_i)$ against basis function $f_j(S(t_{i-1}))$\n",
    "* Step 5: Use the regression coefficients to estimate the continuation value at $t_{i-1}$: $C(t_{i-1})=\\sum^{J}_{j=0} \\beta^{i}_{j} f_j(S(t_{i-1}))$\n",
    "* Step 6: Set option value $p_k(t_{i-1}) = \\max(\\max(K - S_k(t_{i-1}),0), C_k(t_{i-1}))$\n",
    "* Step 7: If $i>1$, Set $i=i-1$, go back to step 3. Otherwise terminate.\n",
    "\n",
    "Return option price as the mean of $e^{-r\\Delta t}p_k(t_{1})$\n",
    "\n",
    "Some code has been provided to you.  Your task is to:\n",
    "\n",
    "1. (Mandatory) Fill in the blanks where the code is missing (whereever there is an indication \"YOUR CODE HERE\") <br>\n",
    "2. (Optional) Implement the following extension:<br>\n",
    "  * Try with different number of basis functions (default is 6): 2,3,4,5,6,9,10,20. Plot the option prices against these different orders and write down the observations in your report. \n",
    "  * Try to extend the stock simulation model with stochastic volatility (Heston Model), i.e., replace $\\sigma$ in the equation with a stochastic one:\n",
    "$d S_t = r S_t dt + \\sqrt{V_t} S_t dW_t $,  where $ d V_t = (\\kappa - \\theta V_t) dt + \\eta \\sqrt{V_t} d B_t$, $d[W_t, B_t] = \\rho dt$.  Modify the pricer accordingly and compare the option price with the constant volatility case. \n",
    "3. (Mandatory) Prepare and submit a report in the form of powerpoint.  You will be asked to present it during the last lecture. "
   ]
  },
  {
   "cell_type": "code",
   "execution_count": 1,
   "metadata": {},
   "outputs": [],
   "source": [
    "import numpy as np\n",
    "import matplotlib.pyplot as plt\n",
    "import seaborn as sns\n",
    "sns.set()\n",
    "%matplotlib inline"
   ]
  },
  {
   "cell_type": "code",
   "execution_count": 2,
   "metadata": {},
   "outputs": [],
   "source": [
    "def sim_stock_price_GBM(S0, r, sigma, N_sim, N_T, dt):\n",
    "        \n",
    "    # Generate paths for underlying asset prices\n",
    "    innovation = np.random.randn(N_sim, N_T)\n",
    "    BM = np.zeros([N_sim, N_T+1])\n",
    "    BM[:,0] = 0\n",
    "    BM[:,1:] = innovation\n",
    "    BM = np.cumsum(BM,axis=1)\n",
    "    BM *= np.sqrt(dt)\n",
    "\n",
    "    S = np.ones([N_sim, N_T+1])\n",
    "    S[:,0] = 0\n",
    "    S = S.cumsum(axis=1)\n",
    "    S *= (r - 0.5*(sigma)**2)*dt\n",
    "    S += sigma * BM\n",
    "    S = S0*np.exp(S)\n",
    "    \n",
    "    return S"
   ]
  },
  {
   "cell_type": "code",
   "execution_count": 3,
   "metadata": {},
   "outputs": [
    {
     "data": {
      "text/plain": [
       "4.778251865208179"
      ]
     },
     "execution_count": 3,
     "metadata": {},
     "output_type": "execute_result"
    }
   ],
   "source": [
    "def AMC(S0,K,r,sigma, N_sim, T, dt, N_basis=6):\n",
    "    N_T = int(T/dt)\n",
    "    t = np.linspace(0,T,N_T+1)\n",
    "\n",
    "    # Simulate stock prices\n",
    "    S= sim_stock_price_GBM(S0, r, sigma, N_sim, N_T,dt)\n",
    "    \n",
    "    # Now backward induction & regression\n",
    "    i = N_T\n",
    "    \n",
    "    Cont = np.zeros(N_sim)  # This stores the continuation value.\n",
    "\n",
    "    while i > 1:\n",
    "        # First calculate option price\n",
    "        p = np.maximum(K - S[:, i], Cont) # YOUR CODE HERE\n",
    "        x = S[:,i-1]  # This is your predictive variable (x). In your prediction you need to use x, x^2, x^3,...x^N, where N = # of basis\n",
    "        # discounted option price\n",
    "        p_disc = np.exp(-r*dt)*p   # This is your target variable (x)\n",
    "        reg =  np.poly1d(np.polyfit(x, p_disc, N_basis)) # YOUR CODE HERE\n",
    "        \n",
    "        Cont = np.maximum(reg(x), 0)\n",
    "        i = i - 1\n",
    "    p = np.maximum(K - S[:, i], Cont) # YOUR CODE HERE\n",
    "    return np.exp(-r*dt)*np.mean(p)\n",
    "S0=100\n",
    "K=95\n",
    "r=0.1\n",
    "sigma=0.23\n",
    "N_sim=10000\n",
    "T=2\n",
    "dt=0.5\n",
    "AMC(S0,K,r,sigma, N_sim, T, dt)"
   ]
  },
  {
   "cell_type": "markdown",
   "metadata": {},
   "source": [
    "## European Put price for comparison"
   ]
  },
  {
   "cell_type": "code",
   "execution_count": 4,
   "metadata": {},
   "outputs": [],
   "source": [
    "from scipy.stats import norm\n",
    "def European_Put(S0,K,r,sigma,T):\n",
    "    d1 = (np.log(S0/K) + (r + 0.5*(sigma)**2))*T/(sigma*np.sqrt(T)) \n",
    "    d2 = d1 - sigma*np.sqrt(T)\n",
    "    return np.exp(-r*T)*K*norm.cdf(-d2) - S0*norm.cdf(-d1)"
   ]
  },
  {
   "cell_type": "code",
   "execution_count": 5,
   "metadata": {},
   "outputs": [
    {
     "data": {
      "text/plain": [
       "3.494842856345061"
      ]
     },
     "execution_count": 5,
     "metadata": {},
     "output_type": "execute_result"
    }
   ],
   "source": [
    "European_Put(S0,K,r,sigma,T)"
   ]
  },
  {
   "cell_type": "code",
   "execution_count": 6,
   "metadata": {},
   "outputs": [
    {
     "data": {
      "text/plain": [
       "4.804046664988097"
      ]
     },
     "execution_count": 6,
     "metadata": {},
     "output_type": "execute_result"
    }
   ],
   "source": [
    "S0=100\n",
    "K=95\n",
    "r=0.1\n",
    "sigma=0.23\n",
    "N_sim=10000\n",
    "T=2\n",
    "dt=0.5\n",
    "AMC(S0,K,r,sigma, N_sim, T, dt)"
   ]
  },
  {
   "cell_type": "code",
   "execution_count": 7,
   "metadata": {},
   "outputs": [],
   "source": [
    "def AMC_S(S):\n",
    "    return AMC(S,K,r,sigma,N_sim,T,dt)"
   ]
  },
  {
   "cell_type": "code",
   "execution_count": 8,
   "metadata": {},
   "outputs": [
    {
     "data": {
      "text/plain": [
       "Text(0, 0.5, 'Put Price')"
      ]
     },
     "execution_count": 8,
     "metadata": {},
     "output_type": "execute_result"
    },
    {
     "data": {
      "image/png": "[encoded data removed]",
      "text/plain": [
       "<Figure size 432x288 with 1 Axes>"
      ]
     },
     "metadata": {
      "needs_background": "light"
     },
     "output_type": "display_data"
    }
   ],
   "source": [
    "S= [60,70,80,90,100,110,120]\n",
    "option_Eur = [European_Put(ss,K,r,sigma,T) for ss in S ]\n",
    "option_Am = [AMC_S(ss) for ss in S]\n",
    "plt.plot(S, option_Eur, label='European Put Price')\n",
    "plt.plot(S, option_Am, label='American Put price')\n",
    "plt.legend()\n",
    "plt.xlabel('Underlying Price')\n",
    "plt.ylabel('Put Price')"
   ]
  },
  {
   "cell_type": "code",
   "execution_count": 9,
   "metadata": {},
   "outputs": [
    {
     "data": {
      "application/vnd.jupyter.widget-view+json": {
       "model_id": "374e8155ddf142ed902239b8e76e7685",
       "version_major": 2,
       "version_minor": 0
      },
      "text/plain": [
       "interactive(children=(FloatSlider(value=50.0, description='S', max=120.0, min=50.0, step=5.0), Output()), _dom…"
      ]
     },
     "metadata": {},
     "output_type": "display_data"
    },
    {
     "data": {
      "text/plain": [
       "<function __main__.AMC_S(S)>"
      ]
     },
     "execution_count": 9,
     "metadata": {},
     "output_type": "execute_result"
    }
   ],
   "source": [
    "from ipywidgets import interact\n",
    "import ipywidgets as widgets\n",
    "interact(AMC_S, S=widgets.FloatSlider(min=50, max=120, step=5))"
   ]
  },
  {
   "cell_type": "code",
   "execution_count": 10,
   "metadata": {},
   "outputs": [
    {
     "name": "stderr",
     "output_type": "stream",
     "text": [
      "C:\\Users\\95846\\Anaconda3\\lib\\site-packages\\ipykernel_launcher.py:5: RankWarning: Polyfit may be poorly conditioned\n",
      "  \"\"\"\n",
      "C:\\Users\\95846\\Anaconda3\\lib\\site-packages\\ipykernel_launcher.py:5: RankWarning: Polyfit may be poorly conditioned\n",
      "  \"\"\"\n",
      "C:\\Users\\95846\\Anaconda3\\lib\\site-packages\\ipykernel_launcher.py:5: RankWarning: Polyfit may be poorly conditioned\n",
      "  \"\"\"\n",
      "C:\\Users\\95846\\Anaconda3\\lib\\site-packages\\ipykernel_launcher.py:5: RankWarning: Polyfit may be poorly conditioned\n",
      "  \"\"\"\n",
      "C:\\Users\\95846\\Anaconda3\\lib\\site-packages\\ipykernel_launcher.py:5: RankWarning: Polyfit may be poorly conditioned\n",
      "  \"\"\"\n",
      "C:\\Users\\95846\\Anaconda3\\lib\\site-packages\\ipykernel_launcher.py:5: RankWarning: Polyfit may be poorly conditioned\n",
      "  \"\"\"\n",
      "C:\\Users\\95846\\Anaconda3\\lib\\site-packages\\ipykernel_launcher.py:5: RankWarning: Polyfit may be poorly conditioned\n",
      "  \"\"\"\n",
      "C:\\Users\\95846\\Anaconda3\\lib\\site-packages\\ipykernel_launcher.py:5: RankWarning: Polyfit may be poorly conditioned\n",
      "  \"\"\"\n",
      "C:\\Users\\95846\\Anaconda3\\lib\\site-packages\\ipykernel_launcher.py:5: RankWarning: Polyfit may be poorly conditioned\n",
      "  \"\"\"\n",
      "C:\\Users\\95846\\Anaconda3\\lib\\site-packages\\ipykernel_launcher.py:5: RankWarning: Polyfit may be poorly conditioned\n",
      "  \"\"\"\n",
      "C:\\Users\\95846\\Anaconda3\\lib\\site-packages\\ipykernel_launcher.py:5: RankWarning: Polyfit may be poorly conditioned\n",
      "  \"\"\"\n",
      "C:\\Users\\95846\\Anaconda3\\lib\\site-packages\\ipykernel_launcher.py:5: RankWarning: Polyfit may be poorly conditioned\n",
      "  \"\"\"\n"
     ]
    },
    {
     "data": {
      "image/png": "[encoded data removed]",
      "text/plain": [
       "<Figure size 432x288 with 1 Axes>"
      ]
     },
     "metadata": {
      "needs_background": "light"
     },
     "output_type": "display_data"
    }
   ],
   "source": [
    "N_basis_list = [2,3,4,5,6,9,10,20, 25, 30,50]\n",
    "option_price = []\n",
    "\n",
    "for basis in N_basis_list:\n",
    "    cur_price = AMC(S0,K,r,sigma, N_sim, T, dt, N_basis=basis)\n",
    "    option_price.append(cur_price)\n",
    "plt.plot(option_price)\n",
    "plt.title(\"option prices against these different basis number\")\n",
    "plt.xticks([i for i in range(len(N_basis_list))], N_basis_list)\n",
    "plt.show()"
   ]
  },
  {
   "cell_type": "code",
   "execution_count": null,
   "metadata": {},
   "outputs": [],
   "source": []
  },
  {
   "cell_type": "code",
   "execution_count": 11,
   "metadata": {},
   "outputs": [],
   "source": [
    "def sim_stock_hest(t0,T,S0,V0,N_t,r,kappa,theta, eta, rho, N_sim):\n",
    "   \n",
    "    dt = T/N_t\n",
    "    t = np.linspace(t0,T,N_t+1)\n",
    "    sdt = np.sqrt(dt)\n",
    "    \n",
    "    Z1 = np.random.randn(N_sim, N_t)\n",
    "    Z2 = np.random.randn(N_sim, N_t)\n",
    "    Z3 = rho*Z1 + np.sqrt(1-rho**2)*Z2\n",
    "    \n",
    "    S = np.zeros((N_sim, N_t+1))\n",
    "    S[:,0] = S0\n",
    "    \n",
    "    V = np.zeros((N_sim, N_t+1))\n",
    "    V[:,0] = V0\n",
    "\n",
    "    for i in range(N_t):\n",
    "        vol = np.sqrt(np.maximum(V[:,i],0))\n",
    "        S[:,i+1] = S[:,i] + r*S[:,i]*dt + vol*S[:,i]*sdt*Z1[:,i] + 0.5*V[:,i]*S[:,i]*(Z1[:,i]**2 - 1)*dt\n",
    "        V[:,i+1] = V[:,i] + kappa*(theta - V[:,i])*dt + eta*vol*sdt*Z3[:,i] + 0.25*(eta**2)*(Z3[:,i]**2 - 1)*dt\n",
    "    return S"
   ]
  },
  {
   "cell_type": "code",
   "execution_count": 12,
   "metadata": {},
   "outputs": [
    {
     "data": {
      "text/plain": [
       "array([[100.        ,  96.07142372,  99.08338505, ...,  29.49521755,\n",
       "         30.56539095,  30.73779905],\n",
       "       [100.        ,  93.69836216,  92.2568379 , ..., 110.46749026,\n",
       "        111.45768435, 110.50102097],\n",
       "       [100.        ,  98.85711357,  99.19295446, ...,  32.11468197,\n",
       "         32.58603791,  33.6295724 ],\n",
       "       ...,\n",
       "       [100.        ,  94.85659892,  96.87752438, ..., 144.00945925,\n",
       "        142.55102998, 142.84313341],\n",
       "       [100.        , 102.09490605, 100.32337624, ...,  90.66175128,\n",
       "         87.78056485,  88.0576216 ],\n",
       "       [100.        , 101.05470538, 101.91679809, ...,   5.03117028,\n",
       "          5.22457844,   5.59020948]])"
      ]
     },
     "execution_count": 12,
     "metadata": {},
     "output_type": "execute_result"
    }
   ],
   "source": [
    "SP=sim_stock_hest(t0=0,T=10,S0=100,\n",
    "                  V0=0.0529,N_t=1000,r=0,kappa=0.04,theta=0.1,eta=0.1,rho=-0.9,\n",
    "                 N_sim=10000)\n",
    "SP"
   ]
  },
  {
   "cell_type": "code",
   "execution_count": 13,
   "metadata": {},
   "outputs": [
    {
     "data": {
      "text/plain": [
       "4.506470820107712"
      ]
     },
     "execution_count": 13,
     "metadata": {},
     "output_type": "execute_result"
    }
   ],
   "source": [
    "def AMC_Hesten(S0,K,r,sigma, N_sim, T, dt, N_basis=6):\n",
    "    N_T = int(T/dt)\n",
    "    t = np.linspace(0,T,N_T+1)\n",
    "\n",
    "    # Simulate stock prices\n",
    "    S = sim_stock_hest(t0=0,T=T,S0=S0,V0=0.0529,N_t=N_T,r=r,kappa=0.04,theta=0.1,eta=0.1,rho=-0.9, N_sim=N_sim)\n",
    "    \n",
    "    # Now backward induction & regression\n",
    "    i = N_T\n",
    "    \n",
    "    Cont = np.zeros(N_sim)  # This stores the continuation value.\n",
    "\n",
    "    while i > 1:\n",
    "        # First calculate option price\n",
    "        p = np.maximum(K - S[:, i], Cont) # YOUR CODE HERE\n",
    "        x = S[:,i-1]  # This is your predictive variable (x). In your prediction you need to use x, x^2, x^3,...x^N, where N = # of basis\n",
    "        # discounted option price\n",
    "        p_disc = np.exp(-r*dt)*p   # This is your target variable (x)\n",
    "        reg =  np.poly1d(np.polyfit(x, p_disc, N_basis)) # YOUR CODE HERE\n",
    "        \n",
    "        Cont = np.maximum(reg(x), 0)\n",
    "        i = i - 1\n",
    "    p = np.maximum(K - S[:, i], Cont) # YOUR CODE HERE\n",
    "    return np.exp(-r*dt)*np.mean(p)\n",
    "S0=100\n",
    "K=95\n",
    "r=0.1\n",
    "sigma=0.23\n",
    "N_sim=10000\n",
    "T=2\n",
    "dt=0.5\n",
    "AMC_Hesten(S0,K,r,sigma, N_sim, T, dt)"
   ]
  },
  {
   "cell_type": "code",
   "execution_count": 14,
   "metadata": {},
   "outputs": [],
   "source": [
    "def AMC_Hesten_S(S):\n",
    "    return AMC_Hesten(S,K,r,sigma,N_sim,T,dt)"
   ]
  },
  {
   "cell_type": "code",
   "execution_count": 15,
   "metadata": {},
   "outputs": [
    {
     "data": {
      "text/plain": [
       "Text(0, 0.5, 'Put Price')"
      ]
     },
     "execution_count": 15,
     "metadata": {},
     "output_type": "execute_result"
    },
    {
     "data": {
      "image/png": "[encoded data removed]",
      "text/plain": [
       "<Figure size 432x288 with 1 Axes>"
      ]
     },
     "metadata": {
      "needs_background": "light"
     },
     "output_type": "display_data"
    }
   ],
   "source": [
    "S= [100,110,120, 150]\n",
    "option_Am = [AMC_S(ss) for ss in S]\n",
    "option_Am_using_Hesten = [AMC_Hesten_S(ss) for ss in S]\n",
    "plt.plot(S, option_Am, label='American Put price using constant volatility')\n",
    "plt.plot(S, option_Am_using_Hesten, label='American Put price with hesten model')\n",
    "plt.legend()\n",
    "plt.xlabel('Underlying Price')\n",
    "plt.ylabel('Put Price')"
   ]
  },
  {
   "cell_type": "code",
   "execution_count": 16,
   "metadata": {},
   "outputs": [
    {
     "data": {
      "application/vnd.jupyter.widget-view+json": {
       "model_id": "95c8588c38ca4956975d2d99a6b01806",
       "version_major": 2,
       "version_minor": 0
      },
      "text/plain": [
       "interactive(children=(FloatSlider(value=50.0, description='S', max=120.0, min=50.0, step=5.0), Output()), _dom…"
      ]
     },
     "metadata": {},
     "output_type": "display_data"
    },
    {
     "data": {
      "text/plain": [
       "<function __main__.AMC_Hesten_S(S)>"
      ]
     },
     "execution_count": 16,
     "metadata": {},
     "output_type": "execute_result"
    }
   ],
   "source": [
    "from ipywidgets import interact\n",
    "import ipywidgets as widgets\n",
    "interact(AMC_Hesten_S, S=widgets.FloatSlider(min=50, max=120, step=5))"
   ]
  },
  {
   "cell_type": "code",
   "execution_count": null,
   "metadata": {},
   "outputs": [],
   "source": []
  }
 ],
 "metadata": {
  "kernelspec": {
   "display_name": "Python 3",
   "language": "python",
   "name": "python3"
  },
  "language_info": {
   "codemirror_mode": {
    "name": "ipython",
    "version": 3
   },
   "file_extension": ".py",
   "mimetype": "text/x-python",
   "name": "python",
   "nbconvert_exporter": "python",
   "pygments_lexer": "ipython3",
   "version": "3.8.5"
  }
 },
 "nbformat": 4,
 "nbformat_minor": 2
}
